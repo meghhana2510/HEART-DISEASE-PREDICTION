{
 "cells": [
  {
   "cell_type": "markdown",
   "id": "01a45590",
   "metadata": {},
   "source": [
    "### importing libraries"
   ]
  },
  {
   "cell_type": "code",
   "execution_count": 9,
   "id": "aefaf63b",
   "metadata": {},
   "outputs": [],
   "source": [
    "import pandas as pd"
   ]
  },
  {
   "cell_type": "markdown",
   "id": "f038c73b",
   "metadata": {},
   "source": [
    "### loading dataset"
   ]
  },
  {
   "cell_type": "code",
   "execution_count": 10,
   "id": "6d3b76a6",
   "metadata": {
    "scrolled": true
   },
   "outputs": [
    {
     "data": {
      "text/html": [
       "<div>\n",
       "<style scoped>\n",
       "    .dataframe tbody tr th:only-of-type {\n",
       "        vertical-align: middle;\n",
       "    }\n",
       "\n",
       "    .dataframe tbody tr th {\n",
       "        vertical-align: top;\n",
       "    }\n",
       "\n",
       "    .dataframe thead th {\n",
       "        text-align: right;\n",
       "    }\n",
       "</style>\n",
       "<table border=\"1\" class=\"dataframe\">\n",
       "  <thead>\n",
       "    <tr style=\"text-align: right;\">\n",
       "      <th></th>\n",
       "      <th>Age</th>\n",
       "      <th>Sex</th>\n",
       "      <th>Chest pain type</th>\n",
       "      <th>BP</th>\n",
       "      <th>Cholesterol</th>\n",
       "      <th>FBS over 120</th>\n",
       "      <th>EKG results</th>\n",
       "      <th>Max HR</th>\n",
       "      <th>Exercise angina</th>\n",
       "      <th>ST depression</th>\n",
       "      <th>Slope of ST</th>\n",
       "      <th>Number of vessels fluro</th>\n",
       "      <th>Thallium</th>\n",
       "      <th>Heart Disease</th>\n",
       "    </tr>\n",
       "  </thead>\n",
       "  <tbody>\n",
       "    <tr>\n",
       "      <th>0</th>\n",
       "      <td>70</td>\n",
       "      <td>1</td>\n",
       "      <td>4</td>\n",
       "      <td>130</td>\n",
       "      <td>322</td>\n",
       "      <td>0</td>\n",
       "      <td>2</td>\n",
       "      <td>109</td>\n",
       "      <td>0</td>\n",
       "      <td>2.4</td>\n",
       "      <td>2</td>\n",
       "      <td>3</td>\n",
       "      <td>3</td>\n",
       "      <td>Presence</td>\n",
       "    </tr>\n",
       "    <tr>\n",
       "      <th>1</th>\n",
       "      <td>67</td>\n",
       "      <td>0</td>\n",
       "      <td>3</td>\n",
       "      <td>115</td>\n",
       "      <td>564</td>\n",
       "      <td>0</td>\n",
       "      <td>2</td>\n",
       "      <td>160</td>\n",
       "      <td>0</td>\n",
       "      <td>1.6</td>\n",
       "      <td>2</td>\n",
       "      <td>0</td>\n",
       "      <td>7</td>\n",
       "      <td>Absence</td>\n",
       "    </tr>\n",
       "  </tbody>\n",
       "</table>\n",
       "</div>"
      ],
      "text/plain": [
       "   Age  Sex  Chest pain type   BP  Cholesterol  FBS over 120  EKG results  \\\n",
       "0   70    1                4  130          322             0            2   \n",
       "1   67    0                3  115          564             0            2   \n",
       "\n",
       "   Max HR  Exercise angina  ST depression  Slope of ST  \\\n",
       "0     109                0            2.4            2   \n",
       "1     160                0            1.6            2   \n",
       "\n",
       "   Number of vessels fluro  Thallium Heart Disease  \n",
       "0                        3         3      Presence  \n",
       "1                        0         7       Absence  "
      ]
     },
     "execution_count": 10,
     "metadata": {},
     "output_type": "execute_result"
    }
   ],
   "source": [
    "dataset=pd.read_csv(r\"C:\\Users\\DELL\\Downloads\\archive (1)\\Heart_Disease_Prediction.csv\")\n",
    "dataset.head(2)"
   ]
  },
  {
   "cell_type": "markdown",
   "id": "c040fad7",
   "metadata": {},
   "source": [
    "### basic info about dataset\n"
   ]
  },
  {
   "cell_type": "code",
   "execution_count": 11,
   "id": "5838150f",
   "metadata": {},
   "outputs": [
    {
     "name": "stdout",
     "output_type": "stream",
     "text": [
      "<class 'pandas.core.frame.DataFrame'>\n",
      "RangeIndex: 270 entries, 0 to 269\n",
      "Data columns (total 14 columns):\n",
      " #   Column                   Non-Null Count  Dtype  \n",
      "---  ------                   --------------  -----  \n",
      " 0   Age                      270 non-null    int64  \n",
      " 1   Sex                      270 non-null    int64  \n",
      " 2   Chest pain type          270 non-null    int64  \n",
      " 3   BP                       270 non-null    int64  \n",
      " 4   Cholesterol              270 non-null    int64  \n",
      " 5   FBS over 120             270 non-null    int64  \n",
      " 6   EKG results              270 non-null    int64  \n",
      " 7   Max HR                   270 non-null    int64  \n",
      " 8   Exercise angina          270 non-null    int64  \n",
      " 9   ST depression            270 non-null    float64\n",
      " 10  Slope of ST              270 non-null    int64  \n",
      " 11  Number of vessels fluro  270 non-null    int64  \n",
      " 12  Thallium                 270 non-null    int64  \n",
      " 13  Heart Disease            270 non-null    object \n",
      "dtypes: float64(1), int64(12), object(1)\n",
      "memory usage: 29.7+ KB\n"
     ]
    },
    {
     "data": {
      "text/plain": [
       "(270, 14)"
      ]
     },
     "execution_count": 11,
     "metadata": {},
     "output_type": "execute_result"
    }
   ],
   "source": [
    "dataset.info() \n",
    "dataset.describe()\n",
    "dataset.shape "
   ]
  },
  {
   "cell_type": "code",
   "execution_count": 12,
   "id": "05c86ec7",
   "metadata": {},
   "outputs": [
    {
     "data": {
      "text/plain": [
       "Index(['Age', 'Sex', 'Chest pain type', 'BP', 'Cholesterol', 'FBS over 120',\n",
       "       'EKG results', 'Max HR', 'Exercise angina', 'ST depression',\n",
       "       'Slope of ST', 'Number of vessels fluro', 'Thallium', 'Heart Disease'],\n",
       "      dtype='object')"
      ]
     },
     "execution_count": 12,
     "metadata": {},
     "output_type": "execute_result"
    }
   ],
   "source": [
    "dataset.columns"
   ]
  },
  {
   "cell_type": "markdown",
   "id": "3f341ff5",
   "metadata": {},
   "source": [
    "now our target dist is column called as Heart disease so checking it"
   ]
  },
  {
   "cell_type": "markdown",
   "id": "c2c595b4",
   "metadata": {},
   "source": [
    "### Data cleaning"
   ]
  },
  {
   "cell_type": "code",
   "execution_count": 16,
   "id": "48049d21",
   "metadata": {},
   "outputs": [
    {
     "name": "stdout",
     "output_type": "stream",
     "text": [
      "Missing Values:\n",
      " Age                        0\n",
      "Sex                        0\n",
      "Chest pain type            0\n",
      "BP                         0\n",
      "Cholesterol                0\n",
      "FBS over 120               0\n",
      "EKG results                0\n",
      "Max HR                     0\n",
      "Exercise angina            0\n",
      "ST depression              0\n",
      "Slope of ST                0\n",
      "Number of vessels fluro    0\n",
      "Thallium                   0\n",
      "Heart Disease              0\n",
      "dtype: int64\n"
     ]
    }
   ],
   "source": [
    "#checking for missing values\n",
    "print(\"Missing Values:\\n\", dataset.isnull().sum())\n"
   ]
  },
  {
   "cell_type": "code",
   "execution_count": 17,
   "id": "09edc881",
   "metadata": {
    "scrolled": true
   },
   "outputs": [
    {
     "name": "stdout",
     "output_type": "stream",
     "text": [
      "\n",
      "Duplicates: 0\n"
     ]
    }
   ],
   "source": [
    "# Check for duplicates in pandas or in excel\n",
    "print(\"\\nDuplicates:\", dataset.duplicated().sum())"
   ]
  },
  {
   "cell_type": "markdown",
   "id": "65367dce",
   "metadata": {},
   "source": [
    "### Handling missing values"
   ]
  },
  {
   "cell_type": "code",
   "execution_count": 22,
   "id": "6db0e970",
   "metadata": {},
   "outputs": [],
   "source": [
    "#replacing data with mean data\n",
    "numeric_columns = dataset.select_dtypes(include=['int64', 'float64']).columns\n",
    "dataset[numeric_columns] = dataset[numeric_columns].fillna(dataset[numeric_columns].mean())"
   ]
  },
  {
   "cell_type": "markdown",
   "id": "2a8e85aa",
   "metadata": {},
   "source": [
    "### splitting the data"
   ]
  },
  {
   "cell_type": "code",
   "execution_count": 25,
   "id": "97983d73",
   "metadata": {},
   "outputs": [
    {
     "data": {
      "text/plain": [
       "Absence     150\n",
       "Presence    120\n",
       "Name: Heart Disease, dtype: int64"
      ]
     },
     "execution_count": 25,
     "metadata": {},
     "output_type": "execute_result"
    }
   ],
   "source": [
    "#checking target distribution\n",
    "dataset['Heart Disease'].value_counts()"
   ]
  },
  {
   "cell_type": "code",
   "execution_count": 29,
   "id": "9d5ecbff",
   "metadata": {},
   "outputs": [],
   "source": [
    "#splitting target and features\n",
    "X=dataset.drop(columns='Heart Disease',axis=1)\n",
    "y=dataset['Heart Disease']"
   ]
  },
  {
   "cell_type": "code",
   "execution_count": 30,
   "id": "293d126c",
   "metadata": {},
   "outputs": [],
   "source": [
    "#datasets into training and testing data\n",
    "X_train, X_test, y_train, y_test = train_test_split(X, y, test_size=0.2, random_state=42)\n"
   ]
  },
  {
   "cell_type": "markdown",
   "id": "92650f03",
   "metadata": {},
   "source": [
    "Now to check if the data is split into 8:2 we should check the shape"
   ]
  },
  {
   "cell_type": "code",
   "execution_count": 31,
   "id": "a1ad913c",
   "metadata": {},
   "outputs": [
    {
     "name": "stdout",
     "output_type": "stream",
     "text": [
      "Shape of X_train: (216, 13)\n",
      "Shape of X_test: (54, 13)\n",
      "Shape of y_train: (216,)\n",
      "Shape of y_test: (54,)\n"
     ]
    }
   ],
   "source": [
    "print(\"Shape of X_train:\", X_train.shape)\n",
    "print(\"Shape of X_test:\", X_test.shape)\n",
    "print(\"Shape of y_train:\", y_train.shape)\n",
    "print(\"Shape of y_test:\", y_test.shape)"
   ]
  },
  {
   "cell_type": "markdown",
   "id": "572a6da6",
   "metadata": {},
   "source": [
    "### Building the Logistic Regression Model### "
   ]
  },
  {
   "cell_type": "markdown",
   "id": "b38185ed",
   "metadata": {},
   "source": [
    "### train the model"
   ]
  },
  {
   "cell_type": "code",
   "execution_count": 34,
   "id": "90431593",
   "metadata": {},
   "outputs": [],
   "source": [
    "#Importing LogisticRegression\n",
    "from sklearn.linear_model import LogisticRegression \n",
    "#Limited-memory Broyden–Fletcher–Goldfarb–Shanno, which is one of the solvers available in scikit-learn for logistic regression.\n",
    "model=LogisticRegression(solver='lbfgs',max_iter=1000)"
   ]
  },
  {
   "cell_type": "code",
   "execution_count": 36,
   "id": "93e235b1",
   "metadata": {},
   "outputs": [
    {
     "data": {
      "text/plain": [
       "LogisticRegression(max_iter=1000)"
      ]
     },
     "execution_count": 36,
     "metadata": {},
     "output_type": "execute_result"
    }
   ],
   "source": [
    "#nstructing the logistic regression model to learn from the training data \n",
    "model.fit(x_train.values,y_train.values)"
   ]
  },
  {
   "cell_type": "markdown",
   "id": "5c1fdcfb",
   "metadata": {},
   "source": [
    "### evaluation of performance"
   ]
  },
  {
   "cell_type": "code",
   "execution_count": 37,
   "id": "d598341f",
   "metadata": {},
   "outputs": [],
   "source": [
    "from sklearn.metrics import accuracy_score, precision_score, recall_score, f1_score, confusion_matrix\n"
   ]
  },
  {
   "cell_type": "markdown",
   "id": "8eec0a94",
   "metadata": {},
   "source": [
    "now We predict on the training set using the trained logistic regression model and then calculate the accuracy of the predictions on the training set by comparing them with the actual training labels (y_train) "
   ]
  },
  {
   "cell_type": "code",
   "execution_count": 40,
   "id": "a35c5083",
   "metadata": {},
   "outputs": [
    {
     "name": "stdout",
     "output_type": "stream",
     "text": [
      "accuracy of training data: 0.5972222222222222\n"
     ]
    }
   ],
   "source": [
    "from sklearn.metrics import accuracy_score,confusion_matrix,classification_report\n",
    "x_train_prediction = model.predict(x_train.values)\n",
    "training_data_accuracy = accuracy_score(x_train_prediction,y_train.values)\n",
    "print('accuracy of training data:',training_data_accuracy)"
   ]
  },
  {
   "cell_type": "markdown",
   "id": "1459982a",
   "metadata": {},
   "source": [
    "calculating the accuracy of testing model"
   ]
  },
  {
   "cell_type": "code",
   "execution_count": 41,
   "id": "f34c1c15",
   "metadata": {},
   "outputs": [
    {
     "name": "stdout",
     "output_type": "stream",
     "text": [
      "accuracy of testing data: 0.4444444444444444\n"
     ]
    }
   ],
   "source": [
    "x_test_prediction = model.predict(x_test.values)\n",
    "testing_data_accuracy = accuracy_score(x_test_prediction,y_test.values)\n",
    "print('accuracy of testing data:',testing_data_accuracy)"
   ]
  },
  {
   "cell_type": "markdown",
   "id": "d98f977a",
   "metadata": {},
   "source": [
    "calculating the confusin matrix"
   ]
  },
  {
   "cell_type": "code",
   "execution_count": 43,
   "id": "7e5f0c80",
   "metadata": {},
   "outputs": [
    {
     "name": "stdout",
     "output_type": "stream",
     "text": [
      "confusion matrix is: [[18 15]\n",
      " [15  6]]\n"
     ]
    }
   ],
   "source": [
    "confusion=confusion_matrix(y_test.values,x_test_prediction)\n",
    "print('confusion matrix is:',confusion)"
   ]
  },
  {
   "cell_type": "code",
   "execution_count": 44,
   "id": "fd91c97e",
   "metadata": {},
   "outputs": [
    {
     "name": "stdout",
     "output_type": "stream",
     "text": [
      "classifiction report is:               precision    recall  f1-score   support\n",
      "\n",
      "     Absence       0.55      0.55      0.55        33\n",
      "    Presence       0.29      0.29      0.29        21\n",
      "\n",
      "    accuracy                           0.44        54\n",
      "   macro avg       0.42      0.42      0.42        54\n",
      "weighted avg       0.44      0.44      0.44        54\n",
      "\n"
     ]
    }
   ],
   "source": [
    "report=classification_report(y_test.values,x_test_prediction)\n",
    "print('classifiction report is:',report)"
   ]
  },
  {
   "cell_type": "markdown",
   "id": "07fcad1a",
   "metadata": {},
   "source": [
    "now he have obseved that Precision = 0.55 means that out of all instances predicted as Absence, 55% were correctly predicted.\n",
    "For the Presence class: Precision = 0.29 means that out of all instances predicted as Presence, only 29% were correctly predicted.\n",
    "etc.."
   ]
  },
  {
   "cell_type": "markdown",
   "id": "811c6593",
   "metadata": {},
   "source": [
    "now overall the accuracy is given as 0.44, which means that the model correctly predicted 44% of all instances in the test set. Therefore, the model's overall performance is moderate"
   ]
  },
  {
   "cell_type": "markdown",
   "id": "6055beb4",
   "metadata": {},
   "source": [
    "iam giving the example dataset to see the live prediction"
   ]
  },
  {
   "cell_type": "code",
   "execution_count": 48,
   "id": "9fae7a6b",
   "metadata": {},
   "outputs": [
    {
     "name": "stdout",
     "output_type": "stream",
     "text": [
      "As per the prediction by the model:\n",
      "The Person has a Heart Disease\n"
     ]
    }
   ],
   "source": [
    "import numpy as np\n",
    "#predictive system building\n",
    "input_data=(67,0,3,115,564,0,2,160,0,1.6,2,0,7)\n",
    "input_data_asarray=np.array(input_data)\n",
    "input_reshaped=input_data_asarray.reshape(1,-1)\n",
    "prediction=model.predict(input_reshaped)\n",
    "print('As per the prediction by the model:')\n",
    "if prediction[0]=='Presence':\n",
    "    print('The Person has a Heart Disease')\n",
    "else:\n",
    "    print('The Person doesnot have a Heart Disease')"
   ]
  },
  {
   "cell_type": "markdown",
   "id": "54ebac72",
   "metadata": {},
   "source": [
    "conclusion : the person has heart disease"
   ]
  },
  {
   "cell_type": "code",
   "execution_count": null,
   "id": "cf3a4839",
   "metadata": {},
   "outputs": [],
   "source": []
  }
 ],
 "metadata": {
  "kernelspec": {
   "display_name": "Python 3 (ipykernel)",
   "language": "python",
   "name": "python3"
  },
  "language_info": {
   "codemirror_mode": {
    "name": "ipython",
    "version": 3
   },
   "file_extension": ".py",
   "mimetype": "text/x-python",
   "name": "python",
   "nbconvert_exporter": "python",
   "pygments_lexer": "ipython3",
   "version": "3.9.13"
  }
 },
 "nbformat": 4,
 "nbformat_minor": 5
}
